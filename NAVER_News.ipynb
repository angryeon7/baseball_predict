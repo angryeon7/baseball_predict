{
  "nbformat": 4,
  "nbformat_minor": 0,
  "metadata": {
    "kernelspec": {
      "display_name": "Python 3",
      "language": "python",
      "name": "python3"
    },
    "language_info": {
      "codemirror_mode": {
        "name": "ipython",
        "version": 3
      },
      "file_extension": ".py",
      "mimetype": "text/x-python",
      "name": "python",
      "nbconvert_exporter": "python",
      "pygments_lexer": "ipython3",
      "version": "3.7.6"
    },
    "colab": {
      "name": "NAVER_News.ipynb",
      "provenance": [],
      "collapsed_sections": [],
      "include_colab_link": true
    }
  },
  "cells": [
    {
      "cell_type": "markdown",
      "metadata": {
        "id": "view-in-github",
        "colab_type": "text"
      },
      "source": [
        "<a href=\"https://colab.research.google.com/github/angryeon7/baseball_predict/blob/main/NAVER_News.ipynb\" target=\"_parent\"><img src=\"https://colab.research.google.com/assets/colab-badge.svg\" alt=\"Open In Colab\"/></a>"
      ]
    },
    {
      "cell_type": "code",
      "metadata": {
        "id": "A6xquY2bNtYJ"
      },
      "source": [
        "import requests\n",
        "from bs4 import BeautifulSoup"
      ],
      "execution_count": null,
      "outputs": []
    },
    {
      "cell_type": "code",
      "metadata": {
        "id": "4bp0FnpZNtYK"
      },
      "source": [
        "url_format = 'https://search.naver.com/search.naver?&where=news&query={0}&sm=tab_pge&sort=0&photo=0&field=0&reporter_article=&pd=3&ds={1}&de={2}&docid=&nso=so:r,p:from{3}to{4},a:all&mynews=0&cluster_rank=34&start={5}'\n",
        "# 2020.08.01\n",
        "# 20200801\n",
        "# 1 (page*10+1)"
      ],
      "execution_count": null,
      "outputs": []
    },
    {
      "cell_type": "code",
      "metadata": {
        "id": "jqZBTMZ8tjI7"
      },
      "source": [
        ""
      ],
      "execution_count": null,
      "outputs": []
    },
    {
      "cell_type": "code",
      "metadata": {
        "id": "f4vDL1o7NtYL"
      },
      "source": [
        "r = requests.get(url_format.format('kt 야구', '2020.05.01', '2020.10.31', '20201001', '20201031', '1'))\n",
        "                               #검색어, 시작 날짜,   종료 날짜,    시작날짜,   종료날짜,   페이지"
      ],
      "execution_count": null,
      "outputs": []
    },
    {
      "cell_type": "code",
      "metadata": {
        "id": "ACU2an7ENtYM"
      },
      "source": [
        "sp = BeautifulSoup(r.text, 'html.parser')"
      ],
      "execution_count": null,
      "outputs": []
    },
    {
      "cell_type": "code",
      "metadata": {
        "id": "cP5IdBthNtYM"
      },
      "source": [
        "sources = sp.select('div.group_news > ul.list_news > li div.news_area > a')"
      ],
      "execution_count": null,
      "outputs": []
    },
    {
      "cell_type": "code",
      "metadata": {
        "colab": {
          "base_uri": "https://localhost:8080/"
        },
        "id": "EwiRn7g7NtYN",
        "outputId": "deae84f5-e73e-49ff-face-0368a9544046"
      },
      "source": [
        "len(sources)"
      ],
      "execution_count": null,
      "outputs": [
        {
          "output_type": "execute_result",
          "data": {
            "text/plain": [
              "10"
            ]
          },
          "metadata": {
            "tags": []
          },
          "execution_count": 12
        }
      ]
    },
    {
      "cell_type": "code",
      "metadata": {
        "colab": {
          "base_uri": "https://localhost:8080/"
        },
        "id": "mEsLh5M3NtYP",
        "outputId": "c316c6d5-48a7-4961-c5c1-532692836e92"
      },
      "source": [
        "for source in sources:\n",
        "    print(source.attrs['href'])"
      ],
      "execution_count": null,
      "outputs": [
        {
          "output_type": "stream",
          "text": [
            "http://www.newsis.com/view/?id=NISX20201124_0001244919&cID=13001&pID=13000\n",
            "http://yna.kr/AKR20201123076600007?did=1195m\n",
            "http://news.mt.co.kr/mtview.php?no=2020112409340523579\n",
            "http://news.kmib.co.kr/article/view.asp?arcid=0015251300&code=61162011&cp=nv\n",
            "http://www.munhwa.com/news/view.html?no=2020112401032603008002\n",
            "https://www.nocutnews.co.kr/news/5452660\n",
            "https://www.etoday.co.kr/news/view/1966304\n",
            "https://hankookilbo.com/News/Read/A2020112409140002515?did=NA\n",
            "https://sports.donga.com/article/all/20201124/104125449/1\n",
            "https://www.sedaily.com/NewsView/1ZAJ6LSVVH\n"
          ],
          "name": "stdout"
        }
      ]
    },
    {
      "cell_type": "code",
      "metadata": {
        "id": "9qRO6ZF_NtYP"
      },
      "source": [
        "news_r = requests.get(sources[0].attrs['href'])"
      ],
      "execution_count": null,
      "outputs": []
    },
    {
      "cell_type": "code",
      "metadata": {
        "colab": {
          "base_uri": "https://localhost:8080/",
          "height": 203
        },
        "id": "eFTjVrVgNtYR",
        "outputId": "8f60fd00-77a8-456e-ff5e-b13968420106"
      },
      "source": [
        "news_sp = BeautifulSoup(news_r.text, 'html.parser')\n",
        "article = news_sp.select('div#body > div#content > div#article_body')\n",
        "print(article[0].text)"
      ],
      "execution_count": null,
      "outputs": [
        {
          "output_type": "error",
          "ename": "IndexError",
          "evalue": "ignored",
          "traceback": [
            "\u001b[0;31m---------------------------------------------------------------------------\u001b[0m",
            "\u001b[0;31mIndexError\u001b[0m                                Traceback (most recent call last)",
            "\u001b[0;32m<ipython-input-16-c41efc0dacab>\u001b[0m in \u001b[0;36m<module>\u001b[0;34m()\u001b[0m\n\u001b[1;32m      1\u001b[0m \u001b[0mnews_sp\u001b[0m \u001b[0;34m=\u001b[0m \u001b[0mBeautifulSoup\u001b[0m\u001b[0;34m(\u001b[0m\u001b[0mnews_r\u001b[0m\u001b[0;34m.\u001b[0m\u001b[0mtext\u001b[0m\u001b[0;34m,\u001b[0m \u001b[0;34m'html.parser'\u001b[0m\u001b[0;34m)\u001b[0m\u001b[0;34m\u001b[0m\u001b[0;34m\u001b[0m\u001b[0m\n\u001b[1;32m      2\u001b[0m \u001b[0marticle\u001b[0m \u001b[0;34m=\u001b[0m \u001b[0mnews_sp\u001b[0m\u001b[0;34m.\u001b[0m\u001b[0mselect\u001b[0m\u001b[0;34m(\u001b[0m\u001b[0;34m'div#body > div#content > div#article_body'\u001b[0m\u001b[0;34m)\u001b[0m\u001b[0;34m\u001b[0m\u001b[0;34m\u001b[0m\u001b[0m\n\u001b[0;32m----> 3\u001b[0;31m \u001b[0mprint\u001b[0m\u001b[0;34m(\u001b[0m\u001b[0marticle\u001b[0m\u001b[0;34m[\u001b[0m\u001b[0;36m0\u001b[0m\u001b[0;34m]\u001b[0m\u001b[0;34m.\u001b[0m\u001b[0mtext\u001b[0m\u001b[0;34m)\u001b[0m\u001b[0;34m\u001b[0m\u001b[0;34m\u001b[0m\u001b[0m\n\u001b[0m",
            "\u001b[0;31mIndexError\u001b[0m: list index out of range"
          ]
        }
      ]
    },
    {
      "cell_type": "markdown",
      "metadata": {
        "id": "gkNfo0C8NtYS"
      },
      "source": [
        "# 자동화"
      ]
    },
    {
      "cell_type": "code",
      "metadata": {
        "id": "LdlSHLiPNtYS"
      },
      "source": [
        "SEARCH_WORD = '한화 야구'\n",
        "START_DATE = '2020.10.05'\n",
        "END_DATE = '2020.11.24'\n",
        "START_DATE_2 = '20201005'\n",
        "END_DATE_2 = '20201124'"
      ],
      "execution_count": null,
      "outputs": []
    },
    {
      "cell_type": "code",
      "metadata": {
        "colab": {
          "base_uri": "https://localhost:8080/",
          "height": 238
        },
        "id": "WR2ZeE1oNtYS",
        "outputId": "cb98e5a8-4a4c-4ff8-8ee5-e095d997ee1f"
      },
      "source": [
        "articles = []\n",
        "# 페이지 크롤링\n",
        "for page_number in range(100):\n",
        "    r = requests.get(url_format.format(SEARCH_WORD, START_DATE, END_DATE, START_DATE_2, END_DATE_2, str(page_number*10+1)))\n",
        "    sp = BeautifulSoup(r.text, 'html.parser')\n",
        "    sources = sp.select('div.group_news > ul.list_news > li div.news_area > a')\n",
        "    \n",
        "    # 뉴스 기사 크롤링\n",
        "    for source in sources:\n",
        "        news_r = requests.get(sources[0].attrs['href'])\n",
        "        news_sp = BeautifulSoup(news_r.text, 'html.parser')\n",
        "        article = news_sp.select('div#body > div#content > div#article_body')\n",
        "        articles.append(article[0].text)\n",
        "        \n",
        "print(articles)"
      ],
      "execution_count": null,
      "outputs": [
        {
          "output_type": "error",
          "ename": "IndexError",
          "evalue": "ignored",
          "traceback": [
            "\u001b[0;31m---------------------------------------------------------------------------\u001b[0m",
            "\u001b[0;31mIndexError\u001b[0m                                Traceback (most recent call last)",
            "\u001b[0;32m<ipython-input-28-a81973808286>\u001b[0m in \u001b[0;36m<module>\u001b[0;34m()\u001b[0m\n\u001b[1;32m     11\u001b[0m         \u001b[0mnews_sp\u001b[0m \u001b[0;34m=\u001b[0m \u001b[0mBeautifulSoup\u001b[0m\u001b[0;34m(\u001b[0m\u001b[0mnews_r\u001b[0m\u001b[0;34m.\u001b[0m\u001b[0mtext\u001b[0m\u001b[0;34m,\u001b[0m \u001b[0;34m'html.parser'\u001b[0m\u001b[0;34m)\u001b[0m\u001b[0;34m\u001b[0m\u001b[0;34m\u001b[0m\u001b[0m\n\u001b[1;32m     12\u001b[0m         \u001b[0marticle\u001b[0m \u001b[0;34m=\u001b[0m \u001b[0mnews_sp\u001b[0m\u001b[0;34m.\u001b[0m\u001b[0mselect\u001b[0m\u001b[0;34m(\u001b[0m\u001b[0;34m'div#body > div#content > div#article_body'\u001b[0m\u001b[0;34m)\u001b[0m\u001b[0;34m\u001b[0m\u001b[0;34m\u001b[0m\u001b[0m\n\u001b[0;32m---> 13\u001b[0;31m         \u001b[0marticles\u001b[0m\u001b[0;34m.\u001b[0m\u001b[0mappend\u001b[0m\u001b[0;34m(\u001b[0m\u001b[0marticle\u001b[0m\u001b[0;34m[\u001b[0m\u001b[0;36m0\u001b[0m\u001b[0;34m]\u001b[0m\u001b[0;34m.\u001b[0m\u001b[0mtext\u001b[0m\u001b[0;34m)\u001b[0m\u001b[0;34m\u001b[0m\u001b[0;34m\u001b[0m\u001b[0m\n\u001b[0m\u001b[1;32m     14\u001b[0m \u001b[0;34m\u001b[0m\u001b[0m\n\u001b[1;32m     15\u001b[0m \u001b[0mprint\u001b[0m\u001b[0;34m(\u001b[0m\u001b[0marticles\u001b[0m\u001b[0;34m)\u001b[0m\u001b[0;34m\u001b[0m\u001b[0;34m\u001b[0m\u001b[0m\n",
            "\u001b[0;31mIndexError\u001b[0m: list index out of range"
          ]
        }
      ]
    },
    {
      "cell_type": "code",
      "metadata": {
        "id": "KLtvpnYKNtYT"
      },
      "source": [
        ""
      ],
      "execution_count": null,
      "outputs": []
    }
  ]
}